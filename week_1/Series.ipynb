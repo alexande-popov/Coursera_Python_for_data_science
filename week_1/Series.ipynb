{
 "cells": [
  {
   "cell_type": "code",
   "execution_count": 1,
   "id": "0c1cd9ce",
   "metadata": {},
   "outputs": [],
   "source": [
    "import numpy  as np\n",
    "import pandas as pd"
   ]
  },
  {
   "cell_type": "code",
   "execution_count": 2,
   "id": "def61b0b",
   "metadata": {},
   "outputs": [
    {
     "data": {
      "text/plain": [
       "d    1\n",
       "c    2\n",
       "b    3\n",
       "d    4\n",
       "dtype: int64"
      ]
     },
     "execution_count": 2,
     "metadata": {},
     "output_type": "execute_result"
    }
   ],
   "source": [
    "s = pd.Series([1,2,3,4], index = [\"d\",\"c\",\"b\",\"d\"])\n",
    "s"
   ]
  },
  {
   "cell_type": "code",
   "execution_count": 3,
   "id": "7d46e79d",
   "metadata": {},
   "outputs": [
    {
     "data": {
      "text/plain": [
       "0    11\n",
       "1    12\n",
       "2    31\n",
       "3    44\n",
       "Name: Just Numbers, dtype: int64"
      ]
     },
     "execution_count": 3,
     "metadata": {},
     "output_type": "execute_result"
    }
   ],
   "source": [
    "s = pd.Series( data=[11,12,31,44], name=\"Just Numbers\" ) # automatic indexing\n",
    "s"
   ]
  },
  {
   "cell_type": "code",
   "execution_count": 4,
   "id": "ca5599eb",
   "metadata": {},
   "outputs": [
    {
     "name": "stdout",
     "output_type": "stream",
     "text": [
      "Dictionary: \n",
      " {'One': 1, 'Two': 2, 'Five': 5, 'Six': 7}\n",
      "\n",
      "pd.Series:  \n",
      " One     1\n",
      "Two     2\n",
      "Five    5\n",
      "Six     7\n",
      "dtype: int64\n",
      "\n",
      "Index Two:     2\n"
     ]
    }
   ],
   "source": [
    "# transfer dictionary\n",
    "d = {'One': 1, 'Two': 2, 'Five': 5, \"Six\": 7}\n",
    "nums = pd.Series(d)\n",
    "\n",
    "print(\"Dictionary:  \\n\", d   )\n",
    "print(\"\\npd.Series: \\n\", nums)\n",
    "print(\"\\nIndex Two:   \", nums['Two'])"
   ]
  },
  {
   "cell_type": "code",
   "execution_count": 5,
   "id": "c151f065",
   "metadata": {},
   "outputs": [
    {
     "name": "stdout",
     "output_type": "stream",
     "text": [
      "Condition [num>3]: \n",
      " Five    5\n",
      "Six     7\n",
      "dtype: int64\n"
     ]
    }
   ],
   "source": [
    "# conditions\n",
    "nums1 = nums[nums>3]\n",
    "print(\"Condition [num>3]: \\n\",  nums1)"
   ]
  },
  {
   "cell_type": "code",
   "execution_count": 9,
   "id": "1574ad2f",
   "metadata": {},
   "outputs": [
    {
     "name": "stdout",
     "output_type": "stream",
     "text": [
      "New nums with index Six\n",
      " One     1\n",
      "Two     2\n",
      "Five    5\n",
      "Six     8\n",
      "dtype: int64\n",
      "\n",
      "New nums with index Seven\n",
      " One      1\n",
      "Two      2\n",
      "Five     5\n",
      "Six      8\n",
      "Seven    7\n",
      "dtype: int64\n"
     ]
    }
   ],
   "source": [
    "# change Series\n",
    "nums[\"Six\"]=8\n",
    "print(\"New nums with index Six\\n\", nums)\n",
    "nums2 = nums.append( pd.Series( {\"Seven\": 7} ) )\n",
    "print(\"\\nNew nums with index Seven\\n\",nums2)"
   ]
  },
  {
   "cell_type": "code",
   "execution_count": null,
   "id": "5d978825",
   "metadata": {},
   "outputs": [],
   "source": []
  },
  {
   "cell_type": "code",
   "execution_count": null,
   "id": "2f6d49b3",
   "metadata": {},
   "outputs": [],
   "source": []
  },
  {
   "cell_type": "code",
   "execution_count": null,
   "id": "22e32be3",
   "metadata": {},
   "outputs": [],
   "source": []
  },
  {
   "cell_type": "code",
   "execution_count": null,
   "id": "fb3e0c18",
   "metadata": {},
   "outputs": [],
   "source": []
  }
 ],
 "metadata": {
  "kernelspec": {
   "display_name": "Python 3",
   "language": "python",
   "name": "python3"
  },
  "language_info": {
   "codemirror_mode": {
    "name": "ipython",
    "version": 3
   },
   "file_extension": ".py",
   "mimetype": "text/x-python",
   "name": "python",
   "nbconvert_exporter": "python",
   "pygments_lexer": "ipython3",
   "version": "3.8.11"
  }
 },
 "nbformat": 4,
 "nbformat_minor": 5
}
