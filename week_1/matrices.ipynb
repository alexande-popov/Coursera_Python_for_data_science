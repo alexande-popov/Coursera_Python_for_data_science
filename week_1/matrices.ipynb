{
 "cells": [
  {
   "cell_type": "code",
   "execution_count": 1,
   "id": "7a54c19c",
   "metadata": {},
   "outputs": [],
   "source": [
    "from scipy import linalg\n",
    "from scipy import optimize\n",
    "import numpy as np\n",
    "import matplotlib.pyplot as plt"
   ]
  },
  {
   "cell_type": "code",
   "execution_count": 2,
   "id": "108d6d22",
   "metadata": {},
   "outputs": [
    {
     "name": "stdout",
     "output_type": "stream",
     "text": [
      "Matrix A:\n",
      " [[1 2]\n",
      " [7 8]]\n"
     ]
    }
   ],
   "source": [
    "A = np.array([[1,2],[7,8]])\n",
    "print('Matrix A:\\n', A)"
   ]
  },
  {
   "cell_type": "code",
   "execution_count": 3,
   "id": "2c17d653",
   "metadata": {},
   "outputs": [
    {
     "name": "stdout",
     "output_type": "stream",
     "text": [
      "dimension of A:\n",
      " (2, 2) \n",
      "\n",
      "determinant  A:\n",
      " -6.0 \n",
      "\n",
      "Transposed   A:\n",
      " [[1 7]\n",
      " [2 8]] \n",
      "\n",
      "inversе      A:\n",
      " [[-1.33333333  0.33333333]\n",
      " [ 1.16666667 -0.16666667]] \n",
      "\n"
     ]
    }
   ],
   "source": [
    "detA = linalg.det(A)           # determinant\n",
    "invA = linalg.inv(A)           # inversе matrix\n",
    "E    = np.eye(np.ndim(A))      # identity matrix\n",
    "AT   = A.T                     # transposed matrix\n",
    "\n",
    "print(\"dimension of A:\\n\",  A.shape  , \"\\n\"  )\n",
    "print(\"determinant  A:\\n\",  detA      , \"\\n\"  )\n",
    "print(\"Transposed   A:\\n\",  AT        , \"\\n\"  )\n",
    "print(\"inversе      A:\\n\",  invA      , \"\\n\"  )"
   ]
  },
  {
   "cell_type": "code",
   "execution_count": 4,
   "id": "7214ec0b",
   "metadata": {},
   "outputs": [
    {
     "name": "stdout",
     "output_type": "stream",
     "text": [
      "A + A:                            \n",
      " [[ 2  4]\n",
      " [14 16]] \n",
      "\n",
      "A * A:                            \n",
      " [[ 1  4]\n",
      " [49 64]] \n",
      "\n",
      "matrix multiplication np.dot(A,A):\n",
      " [[15 18]\n",
      " [63 78]] \n",
      "\n"
     ]
    }
   ],
   "source": [
    "print (\"A + A:                            \\n\",   A + A    , \"\\n\" )\n",
    "print (\"A * A:                            \\n\",   A * A    , \"\\n\" )\n",
    "print (\"matrix multiplication np.dot(A,A):\\n\", np.dot(A,A), \"\\n\" )"
   ]
  },
  {
   "cell_type": "code",
   "execution_count": 5,
   "id": "4e2b519e",
   "metadata": {},
   "outputs": [
    {
     "name": "stdout",
     "output_type": "stream",
     "text": [
      "eigenvalues:  \n",
      " [-0.62347538+0.j  9.62347538+0.j]\n",
      "eigenvectors: \n",
      " [[-0.77640358 -0.22592838]\n",
      " [ 0.63023605 -0.97414391]]\n"
     ]
    }
   ],
   "source": [
    "print (\"eigenvalues:  \\n\", linalg.eig(A)[0])\n",
    "print (\"eigenvectors: \\n\", linalg.eig(A)[1])"
   ]
  },
  {
   "cell_type": "code",
   "execution_count": 6,
   "id": "ce575662",
   "metadata": {},
   "outputs": [
    {
     "data": {
      "image/png": "[encoded data removed]",
      "text/plain": [
       "<Figure size 432x288 with 1 Axes>"
      ]
     },
     "metadata": {
      "needs_background": "light"
     },
     "output_type": "display_data"
    }
   ],
   "source": [
    "def f(x):\n",
    "    return x**2*np.sin(x)\n",
    "\n",
    "def opt():\n",
    "    x=np.arange(-10, 10, 0.1)\n",
    "    plt.plot(x, f(x))\n",
    "    plt.show()\n",
    "    optimize.minimize(f, x0=5)\n",
    "opt()\n"
   ]
  }
 ],
 "metadata": {
  "kernelspec": {
   "display_name": "Python 3",
   "language": "python",
   "name": "python3"
  },
  "language_info": {
   "codemirror_mode": {
    "name": "ipython",
    "version": 3
   },
   "file_extension": ".py",
   "mimetype": "text/x-python",
   "name": "python",
   "nbconvert_exporter": "python",
   "pygments_lexer": "ipython3",
   "version": "3.8.11"
  }
 },
 "nbformat": 4,
 "nbformat_minor": 5
}
